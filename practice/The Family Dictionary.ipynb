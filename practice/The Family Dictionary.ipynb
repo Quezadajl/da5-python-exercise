{
 "cells": [
  {
   "cell_type": "markdown",
   "metadata": {},
   "source": [
    "# The Family Dictionary\n",
    "\n",
    "## Instructions\n",
    "* Define a dictionary that contains information about several members of your family. \n",
    "Use the following example as a template.\n",
    "\n",
    "```py\n",
    "my_family = {\n",
    "    \"sister\": {\n",
    "        \"name\": \"Krista\",\n",
    "        \"age\": 42\n",
    "    },\n",
    "    \"mother\": {\n",
    "        \"name\": \"Cathie\",\n",
    "        \"age\": 70\n",
    "    }\n",
    "}\n",
    "```\n",
    "\n",
    "* Using a dictionary comprehension, produce output that looks like the following example.\n",
    "\n",
    "```\n",
    "Krista is my sister and is 42 years old.\n",
    "Cathie is my mother and is 70 years old.\n",
    "```\n",
    "\n",
    "> **Helpful hint**: To convert an integer into a string in Python, it's str(integer_value)"
   ]
  },
  {
   "cell_type": "code",
   "execution_count": 2,
   "metadata": {},
   "outputs": [],
   "source": [
    "my_family = {\n",
    "    \"sister\": {\n",
    "        \"name\": \"Lupita\",\n",
    "        \"age\": 32\n",
    "},\n",
    "    \"Me\": {\n",
    "        \"name\":\"Luisito\",\n",
    "        \"age\": 28\n",
    "    }\n",
    "}"
   ]
  },
  {
   "cell_type": "code",
   "execution_count": 5,
   "metadata": {},
   "outputs": [
    {
     "ename": "AttributeError",
     "evalue": "'dict' object has no attribute 'head'",
     "output_type": "error",
     "traceback": [
      "\u001b[1;31m---------------------------------------------------------------------------\u001b[0m",
      "\u001b[1;31mAttributeError\u001b[0m                            Traceback (most recent call last)",
      "\u001b[1;32m<ipython-input-5-53e76765b3bf>\u001b[0m in \u001b[0;36m<module>\u001b[1;34m\u001b[0m\n\u001b[1;32m----> 1\u001b[1;33m \u001b[0mprint\u001b[0m\u001b[1;33m(\u001b[0m\u001b[0mmy_family\u001b[0m\u001b[1;33m.\u001b[0m\u001b[0mhead\u001b[0m\u001b[1;33m(\u001b[0m\u001b[1;33m)\u001b[0m\u001b[1;33m)\u001b[0m\u001b[1;33m\u001b[0m\u001b[1;33m\u001b[0m\u001b[0m\n\u001b[0m",
      "\u001b[1;31mAttributeError\u001b[0m: 'dict' object has no attribute 'head'"
     ]
    }
   ],
   "source": [
    "print(my_family.head())"
   ]
  }
 ],
 "metadata": {
  "kernelspec": {
   "display_name": "Python 3",
   "language": "python",
   "name": "python3"
  },
  "language_info": {
   "codemirror_mode": {
    "name": "ipython",
    "version": 3
   },
   "file_extension": ".py",
   "mimetype": "text/x-python",
   "name": "python",
   "nbconvert_exporter": "python",
   "pygments_lexer": "ipython3",
   "version": "3.8.8"
  }
 },
 "nbformat": 4,
 "nbformat_minor": 2
}
